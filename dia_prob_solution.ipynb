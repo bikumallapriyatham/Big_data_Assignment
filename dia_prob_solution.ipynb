{
 "cells": [
  {
   "cell_type": "code",
   "execution_count": 1,
   "id": "5d040994",
   "metadata": {},
   "outputs": [
    {
     "name": "stdout",
     "output_type": "stream",
     "text": [
      "Enter your postcard message or 'close' to quit: Helllo\n",
      "Compressed postmessage: hel3o\n",
      "Enter your postcard message or 'close' to quit: HoW are U\n",
      "Compressed postmessage: how are u\n",
      "Enter your postcard message or 'close' to quit: close\n"
     ]
    }
   ],
   "source": [
    "def compression_algorithm(postcard_message):\n",
    "    if len(postcard_message) <= 1:\n",
    "        return \"postcard message should contain 2 letters\"\n",
    "    compression = []\n",
    "    count = 1\n",
    "    for i in range(1, len(postcard_message)):\n",
    "        if postcard_message[i] == postcard_message[i - 1]:\n",
    "            count += 1\n",
    "        else:\n",
    "            if count > 1:\n",
    "                compression.append(postcard_message[i - 1].lower() + str(count))\n",
    "            else:\n",
    "                compression.append(postcard_message[i - 1].lower())\n",
    "            count = 1\n",
    "    if count > 1:\n",
    "        compression.append(postcard_message[-1].lower() + str(count))\n",
    "    else:\n",
    "        compression.append(postcard_message[-1].lower())\n",
    "    return ''.join(compression)\n",
    "while True:\n",
    "        given_string = input(\"Enter your postcard message or 'close' to quit: \")\n",
    "        if given_string.lower() == 'close':\n",
    "            break\n",
    "\n",
    "        compressed_postmessage = compression_algorithm(given_string)\n",
    "        print(\"Compressed postmessage:\", compressed_postmessage)\n"
   ]
  },
  {
   "cell_type": "code",
   "execution_count": null,
   "id": "27645d02",
   "metadata": {},
   "outputs": [],
   "source": []
  }
 ],
 "metadata": {
  "kernelspec": {
   "display_name": "Python 3 (ipykernel)",
   "language": "python",
   "name": "python3"
  },
  "language_info": {
   "codemirror_mode": {
    "name": "ipython",
    "version": 3
   },
   "file_extension": ".py",
   "mimetype": "text/x-python",
   "name": "python",
   "nbconvert_exporter": "python",
   "pygments_lexer": "ipython3",
   "version": "3.11.4"
  }
 },
 "nbformat": 4,
 "nbformat_minor": 5
}
